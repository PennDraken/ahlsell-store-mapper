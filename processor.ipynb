{
 "cells": [
  {
   "cell_type": "markdown",
   "id": "b41058c9",
   "metadata": {},
   "source": [
    "# Load sheet"
   ]
  },
  {
   "cell_type": "code",
   "execution_count": 6,
   "id": "703eea80",
   "metadata": {},
   "outputs": [
    {
     "name": "stdout",
     "output_type": "stream",
     "text": [
      "Sheets available: ['daahcMNMd']\n",
      "('Artikelnummer', 'Benämning1', 'Benämning2', 'Plockstation', 'Lagerplats', 'Buffer', 'PåfyllnPunktBuff', 'MaxLagersaldo', 'InvFrekv', 'UpplDat')\n",
      "(\"'0030900\", \"'N1XV-U 3G1.5\", \"'(*5)LP)\", \"'BE\", \"'E001G01\", \"'N\", 0, 99999, 1, datetime.datetime(2025, 2, 4, 0, 0))\n",
      "(\"'0030910\", \"'N1XV-U 3G2.5\", \"'(*5)LP)K6)\", \"'BE\", \"'E001G01\", \"'N\", 0, 99999, 1, datetime.datetime(2025, 2, 4, 0, 0))\n",
      "(\"'0030960\", \"'N1XV-U 5G1.5\", \"'(*5)LP)\", \"'BE\", \"'E001G01\", \"'N\", 0, 99999, 1, datetime.datetime(2025, 2, 4, 0, 0))\n",
      "(\"'0030970\", \"'N1XV-U 5G2.5\", \"'(*5)LP)K6)\", \"'BE\", \"'E001G01\", \"'N\", 0, 99999, 1, datetime.datetime(2025, 2, 4, 0, 0))\n"
     ]
    }
   ],
   "source": [
    "import openpyxl\n",
    "\n",
    "# Replace with your actual file path\n",
    "file_path = 'artikel-lagerdata.xlsx'\n",
    "\n",
    "try:\n",
    "    # Load the workbook\n",
    "    workbook = openpyxl.load_workbook(file_path)\n",
    "    \n",
    "    # List all sheet names\n",
    "    print(\"Sheets available:\", workbook.sheetnames)\n",
    "    \n",
    "    # Select the first sheet\n",
    "    sheet = workbook.active  # or workbook['Sheet1'] if you know the name\n",
    "\n",
    "    # Read and print cell values (e.g., first 5 rows of column A and B)\n",
    "    for row in sheet.iter_rows(min_row=1, max_row=5, min_col=1, max_col=10, values_only=True):\n",
    "        print(row)\n",
    "\n",
    "except FileNotFoundError:\n",
    "    print(f\"File not found: {file_path}\")\n",
    "except Exception as e:\n",
    "    print(f\"An error occurred: {e}\")"
   ]
  },
  {
   "cell_type": "code",
   "execution_count": null,
   "id": "817114a1",
   "metadata": {},
   "outputs": [
    {
     "name": "stdout",
     "output_type": "stream",
     "text": [
      "Artikelnummer\n",
      "'0030900\n",
      "'0030910\n",
      "'0030960\n",
      "'0030970\n"
     ]
    }
   ],
   "source": [
    "# Create .js file with the list\n",
    "\n",
    "for row in sheet.iter_rows(min_row=1, max_row=5, min_col=1, max_col=10, values_only=True):\n",
    "    article_number = row[0]\n",
    "    name1 = row[1]\n",
    "    name2 = row[2]\n",
    "    location = row[4]"
   ]
  },
  {
   "cell_type": "code",
   "execution_count": 22,
   "id": "eed4308f",
   "metadata": {},
   "outputs": [],
   "source": [
    "def safe_strip(value):\n",
    "    if isinstance(value, str):\n",
    "        return value.strip(\"'\")\n",
    "    return value  # Leave numbers, None, etc. unchanged\n",
    "\n",
    "import json\n",
    "\n",
    "js_file = 'inventory.js'\n",
    "\n",
    "def safe_strip(value):\n",
    "    if isinstance(value, str):\n",
    "        return value.strip(\"'\")\n",
    "    return value\n",
    "\n",
    "with open(js_file, 'w', encoding='utf-8') as f:\n",
    "    f.write(\"const inventory = \")\n",
    "    json.dump([\n",
    "        {\n",
    "            \"article_number\": safe_strip(row[0]),\n",
    "            \"name1\": safe_strip(row[1]),\n",
    "            \"name2\": safe_strip(row[2]),\n",
    "            \"location\": safe_strip(row[4]),\n",
    "        }\n",
    "        for row in sheet.iter_rows(min_row=2, values_only=True)\n",
    "        if any(row[:5])  # skip empty rows\n",
    "    ], f, ensure_ascii=False, indent=2)\n",
    "    f.write(\";\")\n"
   ]
  }
 ],
 "metadata": {
  "kernelspec": {
   "display_name": "Python 3",
   "language": "python",
   "name": "python3"
  },
  "language_info": {
   "codemirror_mode": {
    "name": "ipython",
    "version": 3
   },
   "file_extension": ".py",
   "mimetype": "text/x-python",
   "name": "python",
   "nbconvert_exporter": "python",
   "pygments_lexer": "ipython3",
   "version": "3.11.9"
  }
 },
 "nbformat": 4,
 "nbformat_minor": 5
}
